{
 "cells": [
  {
   "cell_type": "code",
   "execution_count": 1,
   "id": "b0047553-9066-42c9-9c5d-782fcd1a5245",
   "metadata": {
    "scrolled": true
   },
   "outputs": [
    {
     "data": {
      "text/plain": [
       "Intitializing Scala interpreter ..."
      ]
     },
     "metadata": {},
     "output_type": "display_data"
    },
    {
     "data": {
      "text/plain": [
       "Spark Web UI available at http://192.168.147.129:4040\n",
       "SparkContext available as 'sc' (version = 3.4.0, master = local[*], app id = local-1738405211942)\n",
       "SparkSession available as 'spark'\n"
      ]
     },
     "metadata": {},
     "output_type": "display_data"
    },
    {
     "data": {
      "text/plain": [
       "name: String = Arun\n"
      ]
     },
     "execution_count": 1,
     "metadata": {},
     "output_type": "execute_result"
    }
   ],
   "source": [
    "val name : String = \"Arun\""
   ]
  },
  {
   "cell_type": "code",
   "execution_count": 2,
   "id": "f857a160-2e4a-4ac9-ac8e-6cff8bab98db",
   "metadata": {},
   "outputs": [
    {
     "name": "stdout",
     "output_type": "stream",
     "text": [
      "Arun"
     ]
    }
   ],
   "source": [
    "print(name)"
   ]
  },
  {
   "cell_type": "markdown",
   "id": "d59c83df-6f09-47f5-bded-2412923cb943",
   "metadata": {},
   "source": [
    "# val is immutable\n",
    "# we can not re-assign value to something which is declared as 'val'"
   ]
  },
  {
   "cell_type": "code",
   "execution_count": 3,
   "id": "2f912fcf-078d-4db6-9f6f-0be2956b4251",
   "metadata": {},
   "outputs": [
    {
     "ename": "<console>",
     "evalue": "25: error: reassignment to val",
     "output_type": "error",
     "traceback": [
      "<console>:25: error: reassignment to val",
      "       name = \"Vynateya\"",
      "            ^",
      ""
     ]
    }
   ],
   "source": [
    "val name : String = \"Arun\"\n",
    "name = \"Vynateya\"\n",
    "println(name)"
   ]
  },
  {
   "cell_type": "code",
   "execution_count": 4,
   "id": "5b827ca6-cf1e-40b1-b930-91cb4d6c1b63",
   "metadata": {},
   "outputs": [
    {
     "name": "stdout",
     "output_type": "stream",
     "text": [
      "Vynateya\n"
     ]
    },
    {
     "data": {
      "text/plain": [
       "name: String = Vynateya\n",
       "name: String = Vynateya\n"
      ]
     },
     "execution_count": 4,
     "metadata": {},
     "output_type": "execute_result"
    }
   ],
   "source": [
    "var name : String = \"Arun\"\n",
    "name = \"Vynateya\"\n",
    "println(name)"
   ]
  },
  {
   "cell_type": "code",
   "execution_count": null,
   "id": "b611cba8-d330-40b5-9d6e-896dbd9a8122",
   "metadata": {},
   "outputs": [],
   "source": []
  }
 ],
 "metadata": {
  "kernelspec": {
   "display_name": "spylon-kernel",
   "language": "scala",
   "name": "spylon-kernel"
  },
  "language_info": {
   "codemirror_mode": "text/x-scala",
   "file_extension": ".scala",
   "help_links": [
    {
     "text": "MetaKernel Magics",
     "url": "https://metakernel.readthedocs.io/en/latest/source/README.html"
    }
   ],
   "mimetype": "text/x-scala",
   "name": "scala",
   "pygments_lexer": "scala",
   "version": "0.4.1"
  }
 },
 "nbformat": 4,
 "nbformat_minor": 5
}
