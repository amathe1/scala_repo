{
 "cells": [
  {
   "cell_type": "code",
   "execution_count": 1,
   "id": "b0047553-9066-42c9-9c5d-782fcd1a5245",
   "metadata": {
    "scrolled": true
   },
   "outputs": [
    {
     "data": {
      "text/plain": [
       "Intitializing Scala interpreter ..."
      ]
     },
     "metadata": {},
     "output_type": "display_data"
    },
    {
     "data": {
      "text/plain": [
       "Spark Web UI available at http://192.168.147.129:4040\n",
       "SparkContext available as 'sc' (version = 3.4.0, master = local[*], app id = local-1738405211942)\n",
       "SparkSession available as 'spark'\n"
      ]
     },
     "metadata": {},
     "output_type": "display_data"
    },
    {
     "data": {
      "text/plain": [
       "name: String = Arun\n"
      ]
     },
     "execution_count": 1,
     "metadata": {},
     "output_type": "execute_result"
    }
   ],
   "source": [
    "val name : String = \"Arun\""
   ]
  },
  {
   "cell_type": "code",
   "execution_count": 2,
   "id": "f857a160-2e4a-4ac9-ac8e-6cff8bab98db",
   "metadata": {},
   "outputs": [
    {
     "name": "stdout",
     "output_type": "stream",
     "text": [
      "Arun"
     ]
    }
   ],
   "source": [
    "print(name)"
   ]
  },
  {
   "cell_type": "markdown",
   "id": "d59c83df-6f09-47f5-bded-2412923cb943",
   "metadata": {},
   "source": [
    "# val is immutable\n",
    "# we can not re-assign value to something which is declared as 'val'"
   ]
  },
  {
   "cell_type": "code",
   "execution_count": 3,
   "id": "2f912fcf-078d-4db6-9f6f-0be2956b4251",
   "metadata": {},
   "outputs": [
    {
     "ename": "<console>",
     "evalue": "25: error: reassignment to val",
     "output_type": "error",
     "traceback": [
      "<console>:25: error: reassignment to val",
      "       name = \"Vynateya\"",
      "            ^",
      ""
     ]
    }
   ],
   "source": [
    "val name : String = \"Arun\"\n",
    "name = \"Vynateya\"\n",
    "println(name)"
   ]
  },
  {
   "cell_type": "code",
   "execution_count": 4,
   "id": "5b827ca6-cf1e-40b1-b930-91cb4d6c1b63",
   "metadata": {},
   "outputs": [
    {
     "name": "stdout",
     "output_type": "stream",
     "text": [
      "Vynateya\n"
     ]
    },
    {
     "data": {
      "text/plain": [
       "name: String = Vynateya\n",
       "name: String = Vynateya\n"
      ]
     },
     "execution_count": 4,
     "metadata": {},
     "output_type": "execute_result"
    }
   ],
   "source": [
    "var name : String = \"Arun\"\n",
    "name = \"Vynateya\"\n",
    "println(name)"
   ]
  },
  {
   "cell_type": "markdown",
   "id": "cba3ee9d-ed30-4d8d-9ba4-da18153624cd",
   "metadata": {},
   "source": [
    "# Type Infer\n",
    "- Based on the value assigned, Scala automatically identfy the data type"
   ]
  },
  {
   "cell_type": "code",
   "execution_count": 1,
   "id": "890954e7-8a11-40a9-b29e-09ee38a18f80",
   "metadata": {},
   "outputs": [
    {
     "data": {
      "text/plain": [
       "Intitializing Scala interpreter ..."
      ]
     },
     "metadata": {},
     "output_type": "display_data"
    },
    {
     "data": {
      "text/plain": [
       "Spark Web UI available at http://192.168.147.129:4040\n",
       "SparkContext available as 'sc' (version = 3.4.0, master = local[*], app id = local-1738417593637)\n",
       "SparkSession available as 'spark'\n"
      ]
     },
     "metadata": {},
     "output_type": "display_data"
    },
    {
     "name": "stdout",
     "output_type": "stream",
     "text": [
      "Arun\n"
     ]
    },
    {
     "data": {
      "text/plain": [
       "name: String = Arun\n"
      ]
     },
     "execution_count": 1,
     "metadata": {},
     "output_type": "execute_result"
    }
   ],
   "source": [
    "var name = \"Arun\"\n",
    "println(name)"
   ]
  },
  {
   "cell_type": "code",
   "execution_count": 2,
   "id": "5634c07e-71f6-49f7-b549-53c73bcc7972",
   "metadata": {},
   "outputs": [
    {
     "name": "stdout",
     "output_type": "stream",
     "text": [
      "10\n"
     ]
    },
    {
     "data": {
      "text/plain": [
       "number: Int = 10\n"
      ]
     },
     "execution_count": 2,
     "metadata": {},
     "output_type": "execute_result"
    }
   ],
   "source": [
    "var number = 10\n",
    "println(number)"
   ]
  },
  {
   "cell_type": "code",
   "execution_count": 3,
   "id": "4af7c25c-8a2e-4919-bf13-53c0cfbf74e4",
   "metadata": {},
   "outputs": [
    {
     "name": "stdout",
     "output_type": "stream",
     "text": [
      "20.3\n"
     ]
    },
    {
     "data": {
      "text/plain": [
       "num1: Float = 20.3\n"
      ]
     },
     "execution_count": 3,
     "metadata": {},
     "output_type": "execute_result"
    }
   ],
   "source": [
    "var num1 = 20.3f\n",
    "println(num1)"
   ]
  },
  {
   "cell_type": "code",
   "execution_count": 4,
   "id": "49ea02df-82d2-466e-b32a-f5597d979b21",
   "metadata": {},
   "outputs": [
    {
     "name": "stdout",
     "output_type": "stream",
     "text": [
      "Arun\n"
     ]
    },
    {
     "data": {
      "text/plain": [
       "flag: Boolean = true\n"
      ]
     },
     "execution_count": 4,
     "metadata": {},
     "output_type": "execute_result"
    }
   ],
   "source": [
    "var flag = true\n",
    "println(name)"
   ]
  },
  {
   "cell_type": "markdown",
   "id": "b6c7155d-92ba-4096-9af6-1c4cff3416b6",
   "metadata": {},
   "source": [
    "# In Scala everything is an object\n",
    "- But in java we have primitive data types like int, float, double, char, boolean etc.\n",
    "- Programmers used to convert above premitive data types to Wrapper classes like Int, Flot, Double, Char, Boolean etc.\n",
    "- This is to transfer data in network, and for this, it should be an object. This is called Serialization.\n",
    "- Hence Java programmers used to convert primitive types into Wrapper class objects\n",
    "- But we DON'T have this concept in Scala, because everything is an object in Scala"
   ]
  },
  {
   "cell_type": "code",
   "execution_count": 16,
   "id": "050f410b-5135-41d6-b5da-0b607a6073c9",
   "metadata": {},
   "outputs": [
    {
     "name": "stdout",
     "output_type": "stream",
     "text": [
      "30\n"
     ]
    },
    {
     "data": {
      "text/plain": [
       "a: Int = 10\n",
       "b: Int = 20\n",
       "c: Int = 30\n"
      ]
     },
     "execution_count": 16,
     "metadata": {},
     "output_type": "execute_result"
    }
   ],
   "source": [
    "var a = 10\n",
    "var b = 20\n",
    "var c = a + b\n",
    "println(c)"
   ]
  },
  {
   "cell_type": "markdown",
   "id": "e574243b-aa43-4d4c-8ce9-74ff9b060d7f",
   "metadata": {},
   "source": [
    "# Lets see how Scala will do above additional operation\n",
    "- Keep in mind that everything is a object in Scala\n",
    "- variable 'a' is also an object\n",
    "- Hence we can do \"a.\" and we can use options available by pressing tab (try it in scala prompt in terminal and see available options)\n",
    "- \"+\" is an option once we press tab(after typing a.)\n",
    "- we are using '+' operator and it is overloaded with another object (b)\n",
    "- If this is not clear, open terminal, go to scala prompt create 2 variables as below, then type \"var d = a.\" then press tab, u w'll see available options\n"
   ]
  },
  {
   "cell_type": "code",
   "execution_count": 17,
   "id": "225bccba-cf08-4f65-a8ed-f906a4474b1c",
   "metadata": {},
   "outputs": [
    {
     "name": "stdout",
     "output_type": "stream",
     "text": [
      "30\n"
     ]
    },
    {
     "data": {
      "text/plain": [
       "a: Int = 10\n",
       "b: Int = 20\n",
       "d: Int = 30\n"
      ]
     },
     "execution_count": 17,
     "metadata": {},
     "output_type": "execute_result"
    }
   ],
   "source": [
    "var a = 10\n",
    "var b = 20\n",
    "var d = a.+(b)\n",
    "println(d)"
   ]
  },
  {
   "cell_type": "markdown",
   "id": "50d9c6f1-ee52-4b71-af0a-117eb8f1a465",
   "metadata": {},
   "source": [
    "# Finding out min & max values in Scala"
   ]
  },
  {
   "cell_type": "code",
   "execution_count": 18,
   "id": "d21b61b0-a03c-425e-8ce2-04ecaffc614d",
   "metadata": {},
   "outputs": [
    {
     "name": "stdout",
     "output_type": "stream",
     "text": [
      "10\n"
     ]
    },
    {
     "data": {
      "text/plain": [
       "a: Int = 10\n",
       "b: Int = 20\n",
       "c: Int = 10\n"
      ]
     },
     "execution_count": 18,
     "metadata": {},
     "output_type": "execute_result"
    }
   ],
   "source": [
    "var a = 10\n",
    "var b = 20\n",
    "var c = a min b\n",
    "println(c)"
   ]
  },
  {
   "cell_type": "code",
   "execution_count": 19,
   "id": "1ae118a7-cde4-40d8-9159-8df2e8e77be6",
   "metadata": {},
   "outputs": [
    {
     "name": "stdout",
     "output_type": "stream",
     "text": [
      "20\n"
     ]
    },
    {
     "data": {
      "text/plain": [
       "a: Int = 10\n",
       "b: Int = 20\n",
       "c: Int = 20\n"
      ]
     },
     "execution_count": 19,
     "metadata": {},
     "output_type": "execute_result"
    }
   ],
   "source": [
    "var a = 10\n",
    "var b = 20\n",
    "var c = a max b\n",
    "println(c)"
   ]
  },
  {
   "cell_type": "markdown",
   "id": "dc5dff79-3a6e-4ac8-9357-7940a3852cf5",
   "metadata": {},
   "source": [
    "# if else in Scala (same as Java)"
   ]
  },
  {
   "cell_type": "code",
   "execution_count": 20,
   "id": "20316fd1-e0ba-4937-a94f-1d1e00f3e0a6",
   "metadata": {},
   "outputs": [
    {
     "name": "stdout",
     "output_type": "stream",
     "text": [
      "Min value is 10"
     ]
    },
    {
     "data": {
      "text/plain": [
       "a: Int = 10\n",
       "b: Int = 20\n"
      ]
     },
     "execution_count": 20,
     "metadata": {},
     "output_type": "execute_result"
    }
   ],
   "source": [
    "val a = 10\n",
    "val b = 20\n",
    "\n",
    "if (a < b){\n",
    "    print(\"Min value is \" + a)\n",
    "}\n",
    "else if (a > b){\n",
    "    println(\"Max value is \" +a)\n",
    "}\n",
    "else{\n",
    "    println(\"Both values are same\")\n",
    "}"
   ]
  },
  {
   "cell_type": "code",
   "execution_count": null,
   "id": "a9f56979-80eb-48f3-9e2d-83e826d4d787",
   "metadata": {},
   "outputs": [],
   "source": []
  },
  {
   "cell_type": "markdown",
   "id": "ff6f2a3a-d177-41f9-868a-bd917957a674",
   "metadata": {},
   "source": [
    "# FOR LOOP"
   ]
  },
  {
   "cell_type": "code",
   "execution_count": 1,
   "id": "ae94d53d-99db-4a88-93fa-d21688be9372",
   "metadata": {},
   "outputs": [
    {
     "data": {
      "text/plain": [
       "Intitializing Scala interpreter ..."
      ]
     },
     "metadata": {},
     "output_type": "display_data"
    },
    {
     "data": {
      "text/plain": [
       "Spark Web UI available at http://192.168.147.129:4040\n",
       "SparkContext available as 'sc' (version = 3.4.0, master = local[*], app id = local-1738630151408)\n",
       "SparkSession available as 'spark'\n"
      ]
     },
     "metadata": {},
     "output_type": "display_data"
    },
    {
     "name": "stdout",
     "output_type": "stream",
     "text": [
      "1\n",
      "2\n",
      "3\n",
      "4\n",
      "5\n",
      "6\n",
      "7\n",
      "8\n",
      "9\n",
      "10\n"
     ]
    }
   ],
   "source": [
    "for (x <- 1 to 10){\n",
    "    println(x)\n",
    "}"
   ]
  },
  {
   "cell_type": "code",
   "execution_count": 2,
   "id": "cea80717-43d2-412d-8977-1ba47a14d036",
   "metadata": {},
   "outputs": [
    {
     "name": "stdout",
     "output_type": "stream",
     "text": [
      "1\n",
      "2\n",
      "3\n",
      "4\n",
      "5\n",
      "6\n",
      "7\n",
      "8\n",
      "9\n",
      "10\n"
     ]
    }
   ],
   "source": [
    "for(x <- 1 to 10 by 1){\n",
    "    println(x)\n",
    "}"
   ]
  },
  {
   "cell_type": "code",
   "execution_count": 3,
   "id": "e3743c3e-fdb7-4b82-b4a4-7a59fca11815",
   "metadata": {},
   "outputs": [
    {
     "name": "stdout",
     "output_type": "stream",
     "text": [
      "1\n",
      "3\n",
      "5\n",
      "7\n",
      "9\n"
     ]
    }
   ],
   "source": [
    "for(x <- 1 to 10 by 2){\n",
    "    println(x)\n",
    "}"
   ]
  },
  {
   "cell_type": "code",
   "execution_count": 4,
   "id": "fee93dd4-f11e-4c50-bb68-c76f86284ea2",
   "metadata": {},
   "outputs": [],
   "source": [
    "for(x <- 1 to 10 by -1){\n",
    "    println(x)\n",
    "}"
   ]
  },
  {
   "cell_type": "code",
   "execution_count": 5,
   "id": "deea5149-a099-401f-91a2-5ca75de6346b",
   "metadata": {},
   "outputs": [
    {
     "name": "stdout",
     "output_type": "stream",
     "text": [
      "10\n",
      "9\n",
      "8\n",
      "7\n",
      "6\n",
      "5\n",
      "4\n",
      "3\n",
      "2\n",
      "1\n"
     ]
    }
   ],
   "source": [
    "for(x <- 10 to 1 by -1){\n",
    "    println(x)\n",
    "}"
   ]
  },
  {
   "cell_type": "markdown",
   "id": "9f17a680-fae1-4ed7-bb30-10d083435f0c",
   "metadata": {},
   "source": [
    "# This range concept is applicable for charecters also"
   ]
  },
  {
   "cell_type": "code",
   "execution_count": 6,
   "id": "f30c8835-cf93-4494-8115-867a96f29bed",
   "metadata": {},
   "outputs": [
    {
     "name": "stdout",
     "output_type": "stream",
     "text": [
      "a\n",
      "b\n",
      "c\n",
      "d\n",
      "e\n",
      "f\n",
      "g\n",
      "h\n"
     ]
    }
   ],
   "source": [
    "for(x <- 'a' to 'h' by 1)\n",
    "{\n",
    "    println(x)\n",
    "}"
   ]
  },
  {
   "cell_type": "code",
   "execution_count": 7,
   "id": "04706176-70a8-421c-b47e-b28fb9a06e19",
   "metadata": {},
   "outputs": [
    {
     "name": "stdout",
     "output_type": "stream",
     "text": [
      "a\n",
      "c\n",
      "e\n",
      "g\n"
     ]
    }
   ],
   "source": [
    "for(x <- 'a' to 'h' by 2)\n",
    "{\n",
    "    println(x)\n",
    "}"
   ]
  },
  {
   "cell_type": "code",
   "execution_count": 9,
   "id": "8127bd71-29ad-4b81-9d5d-5678444fd6ff",
   "metadata": {},
   "outputs": [
    {
     "ename": "<console>",
     "evalue": "25: error: type mismatch;",
     "output_type": "error",
     "traceback": [
      "<console>:25: error: type mismatch;",
      " found   : Float(0.5)",
      " required: Int",
      "       for (x <- 1 to 5 by 0.5f){",
      "                           ^",
      ""
     ]
    }
   ],
   "source": [
    "for (x <- 1 to 5 by 0.5){\n",
    "    println(x)\n",
    "}"
   ]
  },
  {
   "cell_type": "markdown",
   "id": "8758fc60-55c3-4f2d-bc22-c68f7ae81293",
   "metadata": {},
   "source": [
    "# Print all even numbers from 1 to 10"
   ]
  },
  {
   "cell_type": "code",
   "execution_count": 10,
   "id": "af617269-8d85-41be-bda4-c5ff5a9890c7",
   "metadata": {},
   "outputs": [
    {
     "name": "stdout",
     "output_type": "stream",
     "text": [
      "2\n",
      "4\n",
      "6\n",
      "8\n",
      "10\n"
     ]
    }
   ],
   "source": [
    "for(x <- 1 to 10 if(x % 2 == 0))\n",
    "{\n",
    "    println(x)\n",
    "}"
   ]
  },
  {
   "cell_type": "markdown",
   "id": "ae506297-2c01-4a58-81b8-d2046fee0e15",
   "metadata": {},
   "source": [
    "# using yield\n",
    "- Instead of executing loop for all iterations from 1 to 10\n",
    "- Use \"yield\" so that it will go into loop only if the given condition met from 1 to 10\n",
    "- This is a way to improve performance"
   ]
  },
  {
   "cell_type": "code",
   "execution_count": 15,
   "id": "bf4926c9-1e80-4bda-8fd4-5c9344fd21b7",
   "metadata": {},
   "outputs": [
    {
     "name": "stdout",
     "output_type": "stream",
     "text": [
      "Vector(2, 4, 6, 8, 10)\n"
     ]
    },
    {
     "data": {
      "text/plain": [
       "result: scala.collection.immutable.IndexedSeq[Int] = Vector(2, 4, 6, 8, 10)\n"
      ]
     },
     "execution_count": 15,
     "metadata": {},
     "output_type": "execute_result"
    }
   ],
   "source": [
    "val result = for(x <- 1 to 10 if(x % 2 == 0) ) yield {\n",
    "    x\n",
    "}\n",
    "println(result)"
   ]
  },
  {
   "cell_type": "markdown",
   "id": "1aedd955-9d64-421b-83ef-33603f56eb27",
   "metadata": {},
   "source": [
    "# Importnt points to understand\n",
    "- We don't have a concept like \"return\" in Scala\n",
    "- Always last statement in the loop is the return statement\n",
    "- In below piece of code, last statement is println(x) and it will be cosidered as return statement\n",
    "- But println() will just print data, it won't return anything. Hence we are seeing void \"()\" printed for 'println(result)'\n",
    "- Once more thing, as last line in for loop is return, notice it doesn't involve first 2 lines x+1, x-1. Hence these 2 lines w'll be ignored "
   ]
  },
  {
   "cell_type": "code",
   "execution_count": 16,
   "id": "763bf03f-ec95-43dc-a9c9-c62ab442ac7d",
   "metadata": {},
   "outputs": [
    {
     "name": "stdout",
     "output_type": "stream",
     "text": [
      "2\n",
      "4\n",
      "6\n",
      "8\n",
      "10\n",
      "Vector((), (), (), (), ())\n"
     ]
    },
    {
     "data": {
      "text/plain": [
       "result: scala.collection.immutable.IndexedSeq[Unit] = Vector((), (), (), (), ())\n"
      ]
     },
     "execution_count": 16,
     "metadata": {},
     "output_type": "execute_result"
    }
   ],
   "source": [
    "val result = for(x <- 1 to 10 if(x % 2 == 0)) yield {\n",
    "    x + 1;\n",
    "    x - 1;\n",
    "    println(x);\n",
    "}\n",
    "println(result)"
   ]
  },
  {
   "cell_type": "markdown",
   "id": "6a234496-d769-4fdf-8e87-9c1dbbd316d4",
   "metadata": {},
   "source": [
    "# See now 'x' is the last line in loop and it will be returned to result\n",
    "- Now we can see values in vectore instead of void ()"
   ]
  },
  {
   "cell_type": "code",
   "execution_count": 17,
   "id": "e1356678-efa5-40c1-8c14-715c6678ffb5",
   "metadata": {},
   "outputs": [
    {
     "name": "stdout",
     "output_type": "stream",
     "text": [
      "2\n",
      "4\n",
      "6\n",
      "8\n",
      "10\n",
      "Vector(2, 4, 6, 8, 10)\n"
     ]
    },
    {
     "data": {
      "text/plain": [
       "result: scala.collection.immutable.IndexedSeq[Int] = Vector(2, 4, 6, 8, 10)\n"
      ]
     },
     "execution_count": 17,
     "metadata": {},
     "output_type": "execute_result"
    }
   ],
   "source": [
    "val result = for(x <- 1 to 10 if(x % 2 == 0)) yield {\n",
    "    x + 1;\n",
    "    x - 1;\n",
    "    println(x);\n",
    "    x\n",
    "}\n",
    "println(result)"
   ]
  },
  {
   "cell_type": "markdown",
   "id": "8b91f680-d7d6-441f-aec0-75ee9d0b9b0b",
   "metadata": {},
   "source": [
    "# Basic concept : val can't be changed, hence error"
   ]
  },
  {
   "cell_type": "code",
   "execution_count": 18,
   "id": "1446685e-abe4-4bb5-a961-bcc7220162d6",
   "metadata": {},
   "outputs": [
    {
     "ename": "<console>",
     "evalue": "25: error: reassignment to val",
     "output_type": "error",
     "traceback": [
      "<console>:25: error: reassignment to val",
      "           x = x + 1;",
      "             ^",
      "<console>:26: error: reassignment to val",
      "           x = x - 1;",
      "             ^",
      ""
     ]
    }
   ],
   "source": [
    "val result = for(x <- 1 to 10 if(x % 2 == 0)) yield {\n",
    "    x = x + 1;\n",
    "    x = x - 1;\n",
    "    println(x);\n",
    "    x\n",
    "}\n",
    "println(result)"
   ]
  },
  {
   "cell_type": "code",
   "execution_count": 24,
   "id": "e03d7a1a-83a3-48f1-8dab-a174f493284e",
   "metadata": {},
   "outputs": [
    {
     "name": "stdout",
     "output_type": "stream",
     "text": [
      "*\n",
      "**\n",
      "***\n",
      "****\n",
      "*****\n"
     ]
    }
   ],
   "source": [
    "for(x <- 1 to 5){\n",
    "    for(y <- 1 to x){\n",
    "        print(\"*\")\n",
    "    }\n",
    "    println()\n",
    "}"
   ]
  },
  {
   "cell_type": "code",
   "execution_count": null,
   "id": "3505a0e7-26d6-47c2-83a3-48f9ffe70a37",
   "metadata": {},
   "outputs": [],
   "source": []
  },
  {
   "cell_type": "markdown",
   "id": "5dce0d10-4405-44fd-b486-4c0c90db80c0",
   "metadata": {},
   "source": [
    "# Arrays in Scala\n",
    "\n",
    "- val <identifier> : Array[<data_type>] = new Array[<data_type>](<array_size>);\n",
    "- val nums : Array[Int] = new Array[Int](5) ;\n",
    "- nums(0) = 10;\n",
    "- nums(1) = 20;\n",
    "- nums"
   ]
  },
  {
   "cell_type": "code",
   "execution_count": 36,
   "id": "2e44bb0e-0ec0-475f-83f1-16a2d46031cd",
   "metadata": {},
   "outputs": [
    {
     "data": {
      "text/plain": [
       "nums: Array[Int] = Array(10, 20, 0, 0, 0)\n",
       "res25: Array[Int] = Array(10, 20, 0, 0, 0)\n"
      ]
     },
     "execution_count": 36,
     "metadata": {},
     "output_type": "execute_result"
    }
   ],
   "source": [
    "val nums : Array[Int] = new Array[Int](5)\n",
    "nums(0) = 10;\n",
    "nums(1) = 20;\n",
    "nums"
   ]
  },
  {
   "cell_type": "markdown",
   "id": "dfe3a07d-aa6d-4908-893b-0b5f4c3e6fd1",
   "metadata": {},
   "source": [
    "# As we have type Infer concept in Scala, it wil automatically detect the data type based on assigned values\n",
    "- We can remove data type in above array (as below)"
   ]
  },
  {
   "cell_type": "code",
   "execution_count": 42,
   "id": "c35c3b77-6119-48d4-95f0-f0795766fc60",
   "metadata": {},
   "outputs": [
    {
     "data": {
      "text/plain": [
       "nums1: Array[Int] = Array(0, 0, 0, 0, 0)\n",
       "nums2: Array[Int] = Array(10, 20, 30, 40, 50)\n",
       "nums3: Array[Int] = Array(1, 2, 3, 4, 5)\n"
      ]
     },
     "execution_count": 42,
     "metadata": {},
     "output_type": "execute_result"
    }
   ],
   "source": [
    "val nums1 : Array[Int] = new Array[Int](5);\n",
    "val nums2 = Array[Int](10, 20, 30, 40, 50);\n",
    "val nums3 = Array(1, 2, 3, 4, 5);\n"
   ]
  },
  {
   "cell_type": "markdown",
   "id": "f1bc54b3-6516-433e-9567-e57703eed6cb",
   "metadata": {},
   "source": [
    "# Understand how can we adding values though we defined it as type 'Val'\n",
    "- Because we are not modifying, we are just asssigning values\n",
    "- nums4 below is the reference of of first Array\n",
    "- we can't re-assign it to another Array (as we declared it as val)"
   ]
  },
  {
   "cell_type": "code",
   "execution_count": 43,
   "id": "4fa1242b-a33d-47c3-b0ab-43d2424be2de",
   "metadata": {},
   "outputs": [
    {
     "ename": "<console>",
     "evalue": "24: error: not found: value num4",
     "output_type": "error",
     "traceback": [
      "<console>:24: error: not found: value num4",
      "       num4 = Array(10, 20, 30, 40, 50)",
      "       ^",
      "<console>:27: error: not found: value num4",
      "       val $ires3 = num4",
      "                    ^",
      ""
     ]
    }
   ],
   "source": [
    "val nums4 = Array(1, 2, 3, 4, 5);\n",
    "num4 = Array(10, 20, 30, 40, 50)"
   ]
  },
  {
   "cell_type": "code",
   "execution_count": null,
   "id": "63a29f21-fd6a-4fb2-aebb-b21b927f058c",
   "metadata": {},
   "outputs": [],
   "source": []
  }
 ],
 "metadata": {
  "kernelspec": {
   "display_name": "spylon-kernel",
   "language": "scala",
   "name": "spylon-kernel"
  },
  "language_info": {
   "codemirror_mode": "text/x-scala",
   "file_extension": ".scala",
   "help_links": [
    {
     "text": "MetaKernel Magics",
     "url": "https://metakernel.readthedocs.io/en/latest/source/README.html"
    }
   ],
   "mimetype": "text/x-scala",
   "name": "scala",
   "pygments_lexer": "scala",
   "version": "0.4.1"
  }
 },
 "nbformat": 4,
 "nbformat_minor": 5
}
