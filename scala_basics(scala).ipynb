{
 "cells": [
  {
   "cell_type": "code",
   "execution_count": 1,
   "id": "b0047553-9066-42c9-9c5d-782fcd1a5245",
   "metadata": {
    "scrolled": true
   },
   "outputs": [
    {
     "data": {
      "text/plain": [
       "Intitializing Scala interpreter ..."
      ]
     },
     "metadata": {},
     "output_type": "display_data"
    },
    {
     "data": {
      "text/plain": [
       "Spark Web UI available at http://192.168.147.129:4040\n",
       "SparkContext available as 'sc' (version = 3.4.0, master = local[*], app id = local-1738405211942)\n",
       "SparkSession available as 'spark'\n"
      ]
     },
     "metadata": {},
     "output_type": "display_data"
    },
    {
     "data": {
      "text/plain": [
       "name: String = Arun\n"
      ]
     },
     "execution_count": 1,
     "metadata": {},
     "output_type": "execute_result"
    }
   ],
   "source": [
    "val name : String = \"Arun\""
   ]
  },
  {
   "cell_type": "code",
   "execution_count": 2,
   "id": "f857a160-2e4a-4ac9-ac8e-6cff8bab98db",
   "metadata": {},
   "outputs": [
    {
     "name": "stdout",
     "output_type": "stream",
     "text": [
      "Arun"
     ]
    }
   ],
   "source": [
    "print(name)"
   ]
  },
  {
   "cell_type": "markdown",
   "id": "d59c83df-6f09-47f5-bded-2412923cb943",
   "metadata": {},
   "source": [
    "# val is immutable\n",
    "# we can not re-assign value to something which is declared as 'val'"
   ]
  },
  {
   "cell_type": "code",
   "execution_count": 3,
   "id": "2f912fcf-078d-4db6-9f6f-0be2956b4251",
   "metadata": {},
   "outputs": [
    {
     "ename": "<console>",
     "evalue": "25: error: reassignment to val",
     "output_type": "error",
     "traceback": [
      "<console>:25: error: reassignment to val",
      "       name = \"Vynateya\"",
      "            ^",
      ""
     ]
    }
   ],
   "source": [
    "val name : String = \"Arun\"\n",
    "name = \"Vynateya\"\n",
    "println(name)"
   ]
  },
  {
   "cell_type": "code",
   "execution_count": 4,
   "id": "5b827ca6-cf1e-40b1-b930-91cb4d6c1b63",
   "metadata": {},
   "outputs": [
    {
     "name": "stdout",
     "output_type": "stream",
     "text": [
      "Vynateya\n"
     ]
    },
    {
     "data": {
      "text/plain": [
       "name: String = Vynateya\n",
       "name: String = Vynateya\n"
      ]
     },
     "execution_count": 4,
     "metadata": {},
     "output_type": "execute_result"
    }
   ],
   "source": [
    "var name : String = \"Arun\"\n",
    "name = \"Vynateya\"\n",
    "println(name)"
   ]
  },
  {
   "cell_type": "markdown",
   "id": "cba3ee9d-ed30-4d8d-9ba4-da18153624cd",
   "metadata": {},
   "source": [
    "# Type Infer\n",
    "- Based on the value assigned, Scala automatically identfy the data type"
   ]
  },
  {
   "cell_type": "code",
   "execution_count": 1,
   "id": "890954e7-8a11-40a9-b29e-09ee38a18f80",
   "metadata": {},
   "outputs": [
    {
     "data": {
      "text/plain": [
       "Intitializing Scala interpreter ..."
      ]
     },
     "metadata": {},
     "output_type": "display_data"
    },
    {
     "data": {
      "text/plain": [
       "Spark Web UI available at http://192.168.147.129:4040\n",
       "SparkContext available as 'sc' (version = 3.4.0, master = local[*], app id = local-1738417593637)\n",
       "SparkSession available as 'spark'\n"
      ]
     },
     "metadata": {},
     "output_type": "display_data"
    },
    {
     "name": "stdout",
     "output_type": "stream",
     "text": [
      "Arun\n"
     ]
    },
    {
     "data": {
      "text/plain": [
       "name: String = Arun\n"
      ]
     },
     "execution_count": 1,
     "metadata": {},
     "output_type": "execute_result"
    }
   ],
   "source": [
    "var name = \"Arun\"\n",
    "println(name)"
   ]
  },
  {
   "cell_type": "code",
   "execution_count": 2,
   "id": "5634c07e-71f6-49f7-b549-53c73bcc7972",
   "metadata": {},
   "outputs": [
    {
     "name": "stdout",
     "output_type": "stream",
     "text": [
      "10\n"
     ]
    },
    {
     "data": {
      "text/plain": [
       "number: Int = 10\n"
      ]
     },
     "execution_count": 2,
     "metadata": {},
     "output_type": "execute_result"
    }
   ],
   "source": [
    "var number = 10\n",
    "println(number)"
   ]
  },
  {
   "cell_type": "code",
   "execution_count": 3,
   "id": "4af7c25c-8a2e-4919-bf13-53c0cfbf74e4",
   "metadata": {},
   "outputs": [
    {
     "name": "stdout",
     "output_type": "stream",
     "text": [
      "20.3\n"
     ]
    },
    {
     "data": {
      "text/plain": [
       "num1: Float = 20.3\n"
      ]
     },
     "execution_count": 3,
     "metadata": {},
     "output_type": "execute_result"
    }
   ],
   "source": [
    "var num1 = 20.3f\n",
    "println(num1)"
   ]
  },
  {
   "cell_type": "code",
   "execution_count": 4,
   "id": "49ea02df-82d2-466e-b32a-f5597d979b21",
   "metadata": {},
   "outputs": [
    {
     "name": "stdout",
     "output_type": "stream",
     "text": [
      "Arun\n"
     ]
    },
    {
     "data": {
      "text/plain": [
       "flag: Boolean = true\n"
      ]
     },
     "execution_count": 4,
     "metadata": {},
     "output_type": "execute_result"
    }
   ],
   "source": [
    "var flag = true\n",
    "println(name)"
   ]
  },
  {
   "cell_type": "markdown",
   "id": "b6c7155d-92ba-4096-9af6-1c4cff3416b6",
   "metadata": {},
   "source": [
    "# In Scala everything is an object\n",
    "- But in java we have primitive data types like int, float, double, char, boolean etc.\n",
    "- Programmers used to convert above premitive data types to Wrapper classes like Int, Flot, Double, Char, Boolean etc.\n",
    "- This is to transfer data in network, and for this, it should be an object. This is called Serialization.\n",
    "- Hence Java programmers used to convert primitive types into Wrapper class objects\n",
    "- But we DON'T have this concept in Scala, because everything is an object in Scala"
   ]
  },
  {
   "cell_type": "code",
   "execution_count": 16,
   "id": "050f410b-5135-41d6-b5da-0b607a6073c9",
   "metadata": {},
   "outputs": [
    {
     "name": "stdout",
     "output_type": "stream",
     "text": [
      "30\n"
     ]
    },
    {
     "data": {
      "text/plain": [
       "a: Int = 10\n",
       "b: Int = 20\n",
       "c: Int = 30\n"
      ]
     },
     "execution_count": 16,
     "metadata": {},
     "output_type": "execute_result"
    }
   ],
   "source": [
    "var a = 10\n",
    "var b = 20\n",
    "var c = a + b\n",
    "println(c)"
   ]
  },
  {
   "cell_type": "markdown",
   "id": "e574243b-aa43-4d4c-8ce9-74ff9b060d7f",
   "metadata": {},
   "source": [
    "# Lets see how Scala will do above additional operation\n",
    "- Keep in mind that everything is a object in Scala\n",
    "- variable 'a' is also an object\n",
    "- Hence we can do \"a.\" and we can use options available by pressing tab (try it in scala prompt in terminal and see available options)\n",
    "- \"+\" is an option once we press tab(after typing a.)\n",
    "- we are using '+' operator and it is overloaded with another object (b)\n",
    "- If this is not clear, open terminal, go to scala prompt create 2 variables as below, then type \"var d = a.\" then press tab, u w'll see available options\n"
   ]
  },
  {
   "cell_type": "code",
   "execution_count": 17,
   "id": "225bccba-cf08-4f65-a8ed-f906a4474b1c",
   "metadata": {},
   "outputs": [
    {
     "name": "stdout",
     "output_type": "stream",
     "text": [
      "30\n"
     ]
    },
    {
     "data": {
      "text/plain": [
       "a: Int = 10\n",
       "b: Int = 20\n",
       "d: Int = 30\n"
      ]
     },
     "execution_count": 17,
     "metadata": {},
     "output_type": "execute_result"
    }
   ],
   "source": [
    "var a = 10\n",
    "var b = 20\n",
    "var d = a.+(b)\n",
    "println(d)"
   ]
  },
  {
   "cell_type": "markdown",
   "id": "50d9c6f1-ee52-4b71-af0a-117eb8f1a465",
   "metadata": {},
   "source": [
    "# Finding out min & max values in Scala"
   ]
  },
  {
   "cell_type": "code",
   "execution_count": 18,
   "id": "d21b61b0-a03c-425e-8ce2-04ecaffc614d",
   "metadata": {},
   "outputs": [
    {
     "name": "stdout",
     "output_type": "stream",
     "text": [
      "10\n"
     ]
    },
    {
     "data": {
      "text/plain": [
       "a: Int = 10\n",
       "b: Int = 20\n",
       "c: Int = 10\n"
      ]
     },
     "execution_count": 18,
     "metadata": {},
     "output_type": "execute_result"
    }
   ],
   "source": [
    "var a = 10\n",
    "var b = 20\n",
    "var c = a min b\n",
    "println(c)"
   ]
  },
  {
   "cell_type": "code",
   "execution_count": 19,
   "id": "1ae118a7-cde4-40d8-9159-8df2e8e77be6",
   "metadata": {},
   "outputs": [
    {
     "name": "stdout",
     "output_type": "stream",
     "text": [
      "20\n"
     ]
    },
    {
     "data": {
      "text/plain": [
       "a: Int = 10\n",
       "b: Int = 20\n",
       "c: Int = 20\n"
      ]
     },
     "execution_count": 19,
     "metadata": {},
     "output_type": "execute_result"
    }
   ],
   "source": [
    "var a = 10\n",
    "var b = 20\n",
    "var c = a max b\n",
    "println(c)"
   ]
  },
  {
   "cell_type": "markdown",
   "id": "dc5dff79-3a6e-4ac8-9357-7940a3852cf5",
   "metadata": {},
   "source": [
    "# if else in Scala (same as Java)"
   ]
  },
  {
   "cell_type": "code",
   "execution_count": 20,
   "id": "20316fd1-e0ba-4937-a94f-1d1e00f3e0a6",
   "metadata": {},
   "outputs": [
    {
     "name": "stdout",
     "output_type": "stream",
     "text": [
      "Min value is 10"
     ]
    },
    {
     "data": {
      "text/plain": [
       "a: Int = 10\n",
       "b: Int = 20\n"
      ]
     },
     "execution_count": 20,
     "metadata": {},
     "output_type": "execute_result"
    }
   ],
   "source": [
    "val a = 10\n",
    "val b = 20\n",
    "\n",
    "if (a < b){\n",
    "    print(\"Min value is \" + a)\n",
    "}\n",
    "else if (a > b){\n",
    "    println(\"Max value is \" +a)\n",
    "}\n",
    "else{\n",
    "    println(\"Both values are same\")\n",
    "}"
   ]
  },
  {
   "cell_type": "code",
   "execution_count": null,
   "id": "a9f56979-80eb-48f3-9e2d-83e826d4d787",
   "metadata": {},
   "outputs": [],
   "source": []
  }
 ],
 "metadata": {
  "kernelspec": {
   "display_name": "spylon-kernel",
   "language": "scala",
   "name": "spylon-kernel"
  },
  "language_info": {
   "codemirror_mode": "text/x-scala",
   "file_extension": ".scala",
   "help_links": [
    {
     "text": "MetaKernel Magics",
     "url": "https://metakernel.readthedocs.io/en/latest/source/README.html"
    }
   ],
   "mimetype": "text/x-scala",
   "name": "scala",
   "pygments_lexer": "scala",
   "version": "0.4.1"
  }
 },
 "nbformat": 4,
 "nbformat_minor": 5
}
