{
 "cells": [
  {
   "cell_type": "markdown",
   "id": "682dc380-dfaf-49e5-9f7c-b81d3b6e8c6b",
   "metadata": {},
   "source": [
    "# String Interpolation in SCALA"
   ]
  },
  {
   "cell_type": "code",
   "execution_count": 1,
   "id": "b545553d-ddbf-4d75-87ba-9e9bfaa167d2",
   "metadata": {},
   "outputs": [
    {
     "data": {
      "text/plain": [
       "Intitializing Scala interpreter ..."
      ]
     },
     "metadata": {},
     "output_type": "display_data"
    },
    {
     "data": {
      "text/plain": [
       "Spark Web UI available at http://192.168.147.129:4040\n",
       "SparkContext available as 'sc' (version = 3.4.0, master = local[*], app id = local-1739038255491)\n",
       "SparkSession available as 'spark'\n"
      ]
     },
     "metadata": {},
     "output_type": "display_data"
    },
    {
     "data": {
      "text/plain": [
       "name: String = Arun\n",
       "course: String = Spark\n",
       "percentage: Double = 98.9876\n",
       "status: Boolean = true\n",
       "count: Int = 10\n"
      ]
     },
     "execution_count": 1,
     "metadata": {},
     "output_type": "execute_result"
    }
   ],
   "source": [
    "val name = \"Arun\"\n",
    "val course = \"Spark\"\n",
    "val percentage = 98.9876\n",
    "val status = true\n",
    "val count = 10"
   ]
  },
  {
   "cell_type": "markdown",
   "id": "99ebe42f-5217-43a6-85ac-45b525f95be8",
   "metadata": {},
   "source": [
    "# Note that we have some constants with type val(immutable) as above\n",
    "- Now let's print them and see the complexity in printing in a traditional way\n",
    "- Its not even flexible to read if it is multiple lines"
   ]
  },
  {
   "cell_type": "code",
   "execution_count": 4,
   "id": "cef3c26d-1463-4494-b33a-ec4a9c3f0f83",
   "metadata": {},
   "outputs": [
    {
     "name": "stdout",
     "output_type": "stream",
     "text": [
      "Name : Arun, Course : Spark, Percentage : 98.9876, Count : 10\n"
     ]
    },
    {
     "data": {
      "text/plain": [
       "msg1: String = Name : Arun, Course : Spark, Percentage : 98.9876, Count : 10\n"
      ]
     },
     "execution_count": 4,
     "metadata": {},
     "output_type": "execute_result"
    }
   ],
   "source": [
    "val msg1 = \"Name : \" + name + \", Course : \" + course + \", Percentage : \" + percentage + \", Count : \" + count \n",
    "println(msg1)"
   ]
  },
  {
   "cell_type": "markdown",
   "id": "9e21a19f-e156-4ab7-9443-c8176245b9a2",
   "metadata": {},
   "source": [
    "# Simply use 's' and put a $ in front of type as below (instead of above way)\n",
    "- This is called String Interpolation\n",
    "- Same concept is there in Python, called Format string, we can use 'f' in Python\n",
    "- Same concept we can use in Scala as well (S won't do format, F will replace variables and it will format as well)\n",
    "- We can give a tab space while using 'S' and by typing \\t\n",
    "- Use 'raw' to make the whole string print as is including tabs"
   ]
  },
  {
   "cell_type": "code",
   "execution_count": 5,
   "id": "44688558-95f4-49ef-8c1a-b07311f6299f",
   "metadata": {},
   "outputs": [
    {
     "name": "stdout",
     "output_type": "stream",
     "text": [
      "Name : Arun, Course : Spark, Percentage : 98.9876, Count : 10\n"
     ]
    },
    {
     "data": {
      "text/plain": [
       "msg2: String = Name : Arun, Course : Spark, Percentage : 98.9876, Count : 10\n"
      ]
     },
     "execution_count": 5,
     "metadata": {},
     "output_type": "execute_result"
    }
   ],
   "source": [
    "val msg2 = s\"Name : $name, Course : $course, Percentage : $percentage, Count : $count\"\n",
    "println(msg2)"
   ]
  },
  {
   "cell_type": "code",
   "execution_count": 6,
   "id": "a28f1b3f-ad98-4ccd-a152-dd1922b30837",
   "metadata": {},
   "outputs": [
    {
     "name": "stdout",
     "output_type": "stream",
     "text": [
      "Name : Arun, Course : Spark, Percentage : 98.99, Count : 10\n"
     ]
    },
    {
     "data": {
      "text/plain": [
       "msg2: String = Name : Arun, Course : Spark, Percentage : 98.99, Count : 10\n"
      ]
     },
     "execution_count": 6,
     "metadata": {},
     "output_type": "execute_result"
    }
   ],
   "source": [
    "val msg2 = f\"Name : $name, Course : $course, Percentage : $percentage%.2f, Count : $count\"\n",
    "println(msg2)"
   ]
  },
  {
   "cell_type": "code",
   "execution_count": 8,
   "id": "7f00ec8a-6303-4449-a81e-0c8ba68289c0",
   "metadata": {},
   "outputs": [
    {
     "name": "stdout",
     "output_type": "stream",
     "text": [
      "Name : Arun\t\t Course : Spark\t\t Percentage : 98.9876\t\t Count : 10\n"
     ]
    },
    {
     "data": {
      "text/plain": [
       "msg3: String = Name : Arun\t\t Course : Spark\t\t Percentage : 98.9876\t\t Count : 10\n"
      ]
     },
     "execution_count": 8,
     "metadata": {},
     "output_type": "execute_result"
    }
   ],
   "source": [
    "val msg3 = s\"Name : $name\\t\\t Course : $course\\t\\t Percentage : $percentage\\t\\t Count : $count\"\n",
    "println(msg3)"
   ]
  },
  {
   "cell_type": "code",
   "execution_count": 9,
   "id": "e885e009-5528-442e-a261-a065cbbb49d2",
   "metadata": {},
   "outputs": [
    {
     "name": "stdout",
     "output_type": "stream",
     "text": [
      "Name : Arun\\t\\t Course : Spark\\t\\t Percentage : 98.9876\\t\\t Count : 10\n"
     ]
    },
    {
     "data": {
      "text/plain": [
       "msg4: String = Name : Arun\\t\\t Course : Spark\\t\\t Percentage : 98.9876\\t\\t Count : 10\n"
      ]
     },
     "execution_count": 9,
     "metadata": {},
     "output_type": "execute_result"
    }
   ],
   "source": [
    "val msg4 = raw\"Name : $name\\t\\t Course : $course\\t\\t Percentage : $percentage\\t\\t Count : $count\"\n",
    "println(msg4)"
   ]
  },
  {
   "cell_type": "code",
   "execution_count": null,
   "id": "5d00af2e-611d-470b-86ce-0f97787a4bad",
   "metadata": {},
   "outputs": [],
   "source": []
  },
  {
   "cell_type": "markdown",
   "id": "818bd249-fe1a-445e-affa-33ababddfb22",
   "metadata": {},
   "source": [
    "# TUPLES\n",
    "- Tuples are most commly used in Spark\n",
    "- These are immutable, can't change\n",
    "- We can access elements using position like <tuple_name>._1, <tuple_name>._2, <tuple_name>._3, <tuple_name>._4"
   ]
  },
  {
   "cell_type": "code",
   "execution_count": null,
   "id": "bc7f0773-a6f9-4475-9495-312a1caa8dcd",
   "metadata": {},
   "outputs": [],
   "source": []
  },
  {
   "cell_type": "code",
   "execution_count": 10,
   "id": "f2419914-7bb7-4310-b227-059e24da44ec",
   "metadata": {},
   "outputs": [
    {
     "data": {
      "text/plain": [
       "name: String = Arun\n",
       "course: String = Spark\n",
       "percentage: Double = 98.9876\n",
       "count: Int = 10\n"
      ]
     },
     "execution_count": 10,
     "metadata": {},
     "output_type": "execute_result"
    }
   ],
   "source": [
    "val (name, course, percentage, count) = (\"Arun\", \"Spark\", 98.9876, 10)"
   ]
  },
  {
   "cell_type": "code",
   "execution_count": 11,
   "id": "abc09236-d29b-411b-a9e4-b0e44867366d",
   "metadata": {},
   "outputs": [
    {
     "data": {
      "text/plain": [
       "t: (String, String, Double, Int) = (Arun,Spark,98.9876,10)\n"
      ]
     },
     "execution_count": 11,
     "metadata": {},
     "output_type": "execute_result"
    }
   ],
   "source": [
    "val t = (\"Arun\", \"Spark\", 98.9876, 10)"
   ]
  },
  {
   "cell_type": "code",
   "execution_count": 12,
   "id": "e654b067-bcf0-4861-a294-5e72c347eafe",
   "metadata": {},
   "outputs": [
    {
     "data": {
      "text/plain": [
       "res6: String = Arun\n"
      ]
     },
     "execution_count": 12,
     "metadata": {},
     "output_type": "execute_result"
    }
   ],
   "source": [
    "t._1"
   ]
  },
  {
   "cell_type": "code",
   "execution_count": 13,
   "id": "87568fe4-fb64-4b19-8975-d5e407767a77",
   "metadata": {},
   "outputs": [
    {
     "data": {
      "text/plain": [
       "res7: String = Spark\n"
      ]
     },
     "execution_count": 13,
     "metadata": {},
     "output_type": "execute_result"
    }
   ],
   "source": [
    "t._2"
   ]
  },
  {
   "cell_type": "code",
   "execution_count": 14,
   "id": "f608daf5-ee25-44da-9aad-23d4cb2a51e1",
   "metadata": {},
   "outputs": [
    {
     "data": {
      "text/plain": [
       "res8: Double = 98.9876\n"
      ]
     },
     "execution_count": 14,
     "metadata": {},
     "output_type": "execute_result"
    }
   ],
   "source": [
    "t._3"
   ]
  },
  {
   "cell_type": "code",
   "execution_count": 15,
   "id": "1d42d1b6-53de-41eb-863f-9ef6bdccafd1",
   "metadata": {},
   "outputs": [
    {
     "data": {
      "text/plain": [
       "res9: Int = 10\n"
      ]
     },
     "execution_count": 15,
     "metadata": {},
     "output_type": "execute_result"
    }
   ],
   "source": [
    "t._4"
   ]
  },
  {
   "cell_type": "code",
   "execution_count": null,
   "id": "801c03d3-5bc1-4d55-a3fc-d349e7f5c12f",
   "metadata": {},
   "outputs": [],
   "source": []
  }
 ],
 "metadata": {
  "kernelspec": {
   "display_name": "spylon-kernel",
   "language": "scala",
   "name": "spylon-kernel"
  },
  "language_info": {
   "codemirror_mode": "text/x-scala",
   "file_extension": ".scala",
   "help_links": [
    {
     "text": "MetaKernel Magics",
     "url": "https://metakernel.readthedocs.io/en/latest/source/README.html"
    }
   ],
   "mimetype": "text/x-scala",
   "name": "scala",
   "pygments_lexer": "scala",
   "version": "0.4.1"
  }
 },
 "nbformat": 4,
 "nbformat_minor": 5
}
